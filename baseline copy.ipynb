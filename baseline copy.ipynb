{
 "cells": [
  {
   "cell_type": "code",
   "execution_count": 1,
   "metadata": {},
   "outputs": [
    {
     "data": {
      "text/plain": [
       "'\\nair_inflow: 공기 흡입 유량 (^3/min)\\nair_end_temp: 공기 말단 온도 (°C)\\nout_pressure: 토출 압력 (Mpa)\\nmotor_current: 모터 전류 (A)\\nmotor_rpm: 모터 회전수 (rpm)\\nmotor_temp: 모터 온도 (°C)\\nmotor_vibe: 모터 진동 (mm/s)\\ntype: 설비 번호\\n\\n설비 번호 [0, 4, 5, 6, 7]: 30HP(마력)\\n설비 번호 1: 20HP\\n설비 번호 2: 10HP\\n설비 번호 3: 50HP\\n'"
      ]
     },
     "execution_count": 1,
     "metadata": {},
     "output_type": "execute_result"
    }
   ],
   "source": [
    "\"\"\"\n",
    "air_inflow: 공기 흡입 유량 (^3/min)\n",
    "air_end_temp: 공기 말단 온도 (°C)\n",
    "out_pressure: 토출 압력 (Mpa)\n",
    "motor_current: 모터 전류 (A)\n",
    "motor_rpm: 모터 회전수 (rpm)\n",
    "motor_temp: 모터 온도 (°C)\n",
    "motor_vibe: 모터 진동 (mm/s)\n",
    "type: 설비 번호\n",
    "\n",
    "설비 번호 [0, 4, 5, 6, 7]: 30HP(마력)\n",
    "설비 번호 1: 20HP\n",
    "설비 번호 2: 10HP\n",
    "설비 번호 3: 50HP\n",
    "\"\"\""
   ]
  },
  {
   "cell_type": "code",
   "execution_count": 4,
   "metadata": {},
   "outputs": [],
   "source": [
    "import warnings\n",
    "\n",
    "import pandas as pd\n",
    "from sklearn.model_selection import train_test_split\n",
    "from sklearn.metrics import f1_score, precision_score, recall_score\n",
    "from sklearn.ensemble import IsolationForest\n",
    "from sklearn.covariance import EllipticEnvelope\n",
    "from sklearn.preprocessing import StandardScaler\n",
    "\n",
    "from src.features import build_features\n",
    "\n",
    "warnings.filterwarnings(action='ignore')\n"
   ]
  },
  {
   "cell_type": "code",
   "execution_count": 8,
   "metadata": {},
   "outputs": [
    {
     "data": {
      "text/plain": [
       " 1    6814\n",
       "-1     575\n",
       "Name: anomaly, dtype: int64"
      ]
     },
     "execution_count": 8,
     "metadata": {},
     "output_type": "execute_result"
    }
   ],
   "source": [
    "df = pd.read_csv(r'data\\raw\\train_data.csv')\n",
    "test = pd.read_csv(r'data\\raw\\test_data.csv')\n",
    "\n",
    "df = build_features.add_motor_hp(df)\n",
    "df = build_features.add_air_flow_pressure(df)\n",
    "df = build_features.add_motor_vibe_freq(df)\n",
    "scaler = StandardScaler()\n",
    "data_scaled = scaler.fit_transform(df)\n",
    "train = pd.DataFrame(data_scaled, columns=df.columns)\n",
    "\n",
    "test = build_features.add_motor_hp(test)\n",
    "test = build_features.add_air_flow_pressure(test)\n",
    "test = build_features.add_motor_vibe_freq(test)\n",
    "\n",
    "# 모델 학습 및 이상치 탐지\n",
    "model = IsolationForest(n_estimators=5000, max_samples='auto',\n",
    "                        contamination=0.001, random_state=42)\n",
    "\n",
    "\n",
    "model.fit(train.drop(\"type\", axis=1))\n",
    "test[\"anomaly\"] = model.predict(test.drop(\"type\", axis=1))\n",
    "\n",
    "\n",
    "test.anomaly.value_counts()\n"
   ]
  },
  {
   "cell_type": "code",
   "execution_count": 17,
   "metadata": {},
   "outputs": [
    {
     "name": "stdout",
     "output_type": "stream",
     "text": [
      "0    678\n",
      "1     61\n",
      "Name: anomaly, dtype: int64\n",
      "Macro F1-score: 0.4785\n",
      "Macro Precision: 0.5000\n",
      "Macro Recall: 0.4587\n"
     ]
    },
    {
     "data": {
      "text/plain": [
       "-1    7389\n",
       "Name: anomaly, dtype: int64"
      ]
     },
     "execution_count": 17,
     "metadata": {},
     "output_type": "execute_result"
    }
   ],
   "source": [
    "df = pd.read_csv(r'data\\raw\\train_data.csv')\n",
    "test = pd.read_csv(r'data\\raw\\test_data.csv')\n",
    "\n",
    "df = build_features.add_motor_hp(df)\n",
    "df = build_features.add_air_flow_pressure(df)\n",
    "df = build_features.add_motor_vibe_freq(df)\n",
    "scaler = StandardScaler()\n",
    "data_scaled = scaler.fit_transform(df)\n",
    "data_scaled_df = pd.DataFrame(data_scaled, columns=df.columns)\n",
    "\n",
    "test = build_features.add_motor_hp(test)\n",
    "test = build_features.add_air_flow_pressure(test)\n",
    "test = build_features.add_motor_vibe_freq(test)\n",
    "\n",
    "\n",
    "train, val = train_test_split(data_scaled_df, test_size=0.3, shuffle=True, random_state=42)\n",
    "\n",
    "# 모델 학습 및 이상치 탐지\n",
    "model = EllipticEnvelope(contamination=0.09)\n",
    "model.fit(train.drop(\"type\", axis=1))\n",
    "\n",
    "val[\"anomaly\"] = model.predict(val.drop(\"type\", axis=1))\n",
    "test[\"anomaly\"] = model.predict(test.drop(\"type\", axis=1))\n",
    "\n",
    "y_true = val[\"type\"].apply(lambda x: 1 if x == \"anomaly\" else 0)\n",
    "y_pred = val[\"anomaly\"].apply(lambda x: 1 if x == -1 else 0)\n",
    "print(y_pred.value_counts())\n",
    "macro_f1 = f1_score(y_true, y_pred, average=\"macro\")\n",
    "macro_precision = precision_score(y_true, y_pred, average=\"macro\")\n",
    "macro_recall = recall_score(y_true, y_pred, average=\"macro\")\n",
    "\n",
    "print(\"Macro F1-score: {:.4f}\".format(macro_f1))\n",
    "print(\"Macro Precision: {:.4f}\".format(macro_precision))\n",
    "print(\"Macro Recall: {:.4f}\".format(macro_recall))\n",
    "\n",
    "test.anomaly.value_counts()"
   ]
  },
  {
   "cell_type": "code",
   "execution_count": 14,
   "metadata": {},
   "outputs": [],
   "source": [
    "df = pd.read_csv(r'C:\\Project_MB\\Anomaly-Detection-of-Air-Compressor\\data\\raw\\train_data.csv')\n",
    "test = pd.read_csv(r'C:\\Project_MB\\Anomaly-Detection-of-Air-Compressor\\data\\raw\\test_data.csv')"
   ]
  },
  {
   "cell_type": "code",
   "execution_count": 17,
   "metadata": {},
   "outputs": [
    {
     "data": {
      "text/html": [
       "<div>\n",
       "<style scoped>\n",
       "    .dataframe tbody tr th:only-of-type {\n",
       "        vertical-align: middle;\n",
       "    }\n",
       "\n",
       "    .dataframe tbody tr th {\n",
       "        vertical-align: top;\n",
       "    }\n",
       "\n",
       "    .dataframe thead th {\n",
       "        text-align: right;\n",
       "    }\n",
       "</style>\n",
       "<table border=\"1\" class=\"dataframe\">\n",
       "  <thead>\n",
       "    <tr style=\"text-align: right;\">\n",
       "      <th></th>\n",
       "      <th>air_inflow</th>\n",
       "      <th>air_end_temp</th>\n",
       "      <th>out_pressure</th>\n",
       "      <th>motor_current</th>\n",
       "      <th>motor_rpm</th>\n",
       "      <th>motor_temp</th>\n",
       "      <th>motor_vibe</th>\n",
       "      <th>type</th>\n",
       "    </tr>\n",
       "  </thead>\n",
       "  <tbody>\n",
       "    <tr>\n",
       "      <th>count</th>\n",
       "      <td>2463.000000</td>\n",
       "      <td>2463.000000</td>\n",
       "      <td>2.463000e+03</td>\n",
       "      <td>2463.000000</td>\n",
       "      <td>2463.000000</td>\n",
       "      <td>2463.000000</td>\n",
       "      <td>2463.000000</td>\n",
       "      <td>2463.000000</td>\n",
       "    </tr>\n",
       "    <tr>\n",
       "      <th>mean</th>\n",
       "      <td>2.128843</td>\n",
       "      <td>49.001137</td>\n",
       "      <td>7.000000e-01</td>\n",
       "      <td>27.490715</td>\n",
       "      <td>2372.576939</td>\n",
       "      <td>65.766707</td>\n",
       "      <td>3.452972</td>\n",
       "      <td>2.957369</td>\n",
       "    </tr>\n",
       "    <tr>\n",
       "      <th>std</th>\n",
       "      <td>1.202328</td>\n",
       "      <td>8.725091</td>\n",
       "      <td>2.964897e-14</td>\n",
       "      <td>13.604597</td>\n",
       "      <td>687.870774</td>\n",
       "      <td>7.797152</td>\n",
       "      <td>1.576386</td>\n",
       "      <td>2.230113</td>\n",
       "    </tr>\n",
       "    <tr>\n",
       "      <th>min</th>\n",
       "      <td>0.330000</td>\n",
       "      <td>32.030000</td>\n",
       "      <td>7.000000e-01</td>\n",
       "      <td>5.340000</td>\n",
       "      <td>1201.000000</td>\n",
       "      <td>50.360000</td>\n",
       "      <td>1.970000</td>\n",
       "      <td>0.000000</td>\n",
       "    </tr>\n",
       "    <tr>\n",
       "      <th>25%</th>\n",
       "      <td>1.280000</td>\n",
       "      <td>41.600000</td>\n",
       "      <td>7.000000e-01</td>\n",
       "      <td>17.110000</td>\n",
       "      <td>1784.500000</td>\n",
       "      <td>59.150000</td>\n",
       "      <td>2.880000</td>\n",
       "      <td>1.000000</td>\n",
       "    </tr>\n",
       "    <tr>\n",
       "      <th>50%</th>\n",
       "      <td>1.960000</td>\n",
       "      <td>48.980000</td>\n",
       "      <td>7.000000e-01</td>\n",
       "      <td>25.850000</td>\n",
       "      <td>2358.000000</td>\n",
       "      <td>65.640000</td>\n",
       "      <td>3.260000</td>\n",
       "      <td>3.000000</td>\n",
       "    </tr>\n",
       "    <tr>\n",
       "      <th>75%</th>\n",
       "      <td>2.820000</td>\n",
       "      <td>56.355000</td>\n",
       "      <td>7.000000e-01</td>\n",
       "      <td>36.000000</td>\n",
       "      <td>2971.000000</td>\n",
       "      <td>72.275000</td>\n",
       "      <td>3.730000</td>\n",
       "      <td>5.000000</td>\n",
       "    </tr>\n",
       "    <tr>\n",
       "      <th>max</th>\n",
       "      <td>6.220000</td>\n",
       "      <td>64.960000</td>\n",
       "      <td>7.000000e-01</td>\n",
       "      <td>72.000000</td>\n",
       "      <td>3564.000000</td>\n",
       "      <td>80.520000</td>\n",
       "      <td>21.870000</td>\n",
       "      <td>7.000000</td>\n",
       "    </tr>\n",
       "  </tbody>\n",
       "</table>\n",
       "</div>"
      ],
      "text/plain": [
       "        air_inflow  air_end_temp  out_pressure  motor_current    motor_rpm  \\\n",
       "count  2463.000000   2463.000000  2.463000e+03    2463.000000  2463.000000   \n",
       "mean      2.128843     49.001137  7.000000e-01      27.490715  2372.576939   \n",
       "std       1.202328      8.725091  2.964897e-14      13.604597   687.870774   \n",
       "min       0.330000     32.030000  7.000000e-01       5.340000  1201.000000   \n",
       "25%       1.280000     41.600000  7.000000e-01      17.110000  1784.500000   \n",
       "50%       1.960000     48.980000  7.000000e-01      25.850000  2358.000000   \n",
       "75%       2.820000     56.355000  7.000000e-01      36.000000  2971.000000   \n",
       "max       6.220000     64.960000  7.000000e-01      72.000000  3564.000000   \n",
       "\n",
       "        motor_temp   motor_vibe         type  \n",
       "count  2463.000000  2463.000000  2463.000000  \n",
       "mean     65.766707     3.452972     2.957369  \n",
       "std       7.797152     1.576386     2.230113  \n",
       "min      50.360000     1.970000     0.000000  \n",
       "25%      59.150000     2.880000     1.000000  \n",
       "50%      65.640000     3.260000     3.000000  \n",
       "75%      72.275000     3.730000     5.000000  \n",
       "max      80.520000    21.870000     7.000000  "
      ]
     },
     "execution_count": 17,
     "metadata": {},
     "output_type": "execute_result"
    }
   ],
   "source": [
    "df.describe()\n",
    "test.describe()"
   ]
  },
  {
   "cell_type": "code",
   "execution_count": 68,
   "metadata": {},
   "outputs": [],
   "source": [
    "test_score = test.copy()\n",
    "test_score[\"anomaly_score\"] = model.decision_function(test_score)\n",
    "test_score[\"anomaly\"] = test_score[\"anomaly_score\"].apply(lambda x: 0 if x > 0 else 1)\n",
    "\n",
    "test_score.anomaly.value_counts()\n",
    "test_score\n",
    "submission = pd.read_csv(r'C:\\Project_MB\\Anomaly-Detection-of-Air-Compressor\\data\\raw\\answer_sample.csv')\n",
    "submission\n",
    "submission[\"label\"] = test_score[\"anomaly\"]\n",
    "submission.to_csv(r'C:\\Project_MB\\Anomaly-Detection-of-Air-Compressor\\data\\submission\\submission.csv', index=False)"
   ]
  }
 ],
 "metadata": {
  "kernelspec": {
   "display_name": "base",
   "language": "python",
   "name": "python3"
  },
  "language_info": {
   "codemirror_mode": {
    "name": "ipython",
    "version": 3
   },
   "file_extension": ".py",
   "mimetype": "text/x-python",
   "name": "python",
   "nbconvert_exporter": "python",
   "pygments_lexer": "ipython3",
   "version": "3.8.10"
  },
  "orig_nbformat": 4
 },
 "nbformat": 4,
 "nbformat_minor": 2
}
