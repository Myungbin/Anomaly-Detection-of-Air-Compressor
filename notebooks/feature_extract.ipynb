{
 "cells": [
  {
   "cell_type": "code",
   "execution_count": 35,
   "metadata": {},
   "outputs": [],
   "source": [
    "import warnings\n",
    "\n",
    "import pandas as pd\n",
    "from sklearn.preprocessing import MinMaxScaler\n",
    "import numpy as np\n",
    "from sklearn.mixture import GaussianMixture\n",
    "\n",
    "from src.features import build_features_final\n",
    "from src.config.config import seed_everything, cfg\n",
    "\n",
    "warnings.filterwarnings(action='ignore')\n",
    "seed_everything(cfg.SEED)"
   ]
  },
  {
   "cell_type": "code",
   "execution_count": 38,
   "metadata": {},
   "outputs": [],
   "source": [
    "def find_best_n_components(data, max_components=10):\n",
    "    best_n_components = 0\n",
    "    best_aic = float('inf')\n",
    "    n_components_range = range(1, max_components + 1)\n",
    "\n",
    "    for n_components in n_components_range:\n",
    "        gmm = GaussianMixture(n_components=n_components, random_state=cfg.SEED)\n",
    "        gmm.fit(data)\n",
    "        aic = gmm.aic(data)\n",
    "        if aic < best_aic:\n",
    "            best_aic = aic\n",
    "            best_n_components = n_components\n",
    "\n",
    "    print(f\"Best n_components: {best_n_components}\")\n",
    "    return best_n_components"
   ]
  },
  {
   "cell_type": "code",
   "execution_count": 39,
   "metadata": {},
   "outputs": [
    {
     "name": "stdout",
     "output_type": "stream",
     "text": [
      "Best n_components: 5\n",
      "finish 0.0type\n",
      "Best n_components: 7\n",
      "finish 0.14285714285714285type\n",
      "Best n_components: 4\n",
      "finish 0.2857142857142857type\n",
      "Best n_components: 4\n",
      "finish 0.42857142857142855type\n",
      "Best n_components: 4\n",
      "finish 0.5714285714285714type\n",
      "Best n_components: 4\n",
      "finish 0.7142857142857142type\n",
      "Best n_components: 3\n",
      "finish 0.8571428571428571type\n",
      "Best n_components: 4\n",
      "finish 1.0type\n"
     ]
    }
   ],
   "source": [
    "scaler = MinMaxScaler()\n",
    "\n",
    "train_data = pd.read_csv(r'data\\raw\\train_data.csv')\n",
    "train_data = build_features_final.create_derived_features(train_data)\n",
    "\n",
    "test_data = pd.read_csv(r'data\\raw\\test_data.csv')\n",
    "test_data = build_features_final.create_derived_features(test_data)\n",
    "\n",
    "scaled_train_data = scaler.fit_transform(train_data)\n",
    "scaled_test_data = scaler.transform(test_data)\n",
    "\n",
    "scaled_train_data = pd.DataFrame(scaled_train_data, columns=train_data.columns)\n",
    "scaled_test_data = pd.DataFrame(scaled_test_data, columns=train_data.columns)\n",
    "\n",
    "scaled_train_data_df = scaled_train_data.copy()\n",
    "scaled_test_data_df = scaled_test_data.copy()\n",
    "\n",
    "drop_feature = ['type', 'motor_hp', 'air_end_temp', 'motor_rpm', 'motor_temp', 'motor_vibe', 'motor_current',\n",
    "                'air_inflow', \"air_flow_pressure\", \"current_by_vibration\", \"airflow_per_rotation\", \"air_to_motor_ratio\"]\n",
    "\n",
    "\n",
    "grouped_train = scaled_train_data.groupby('type')\n",
    "\n",
    "train_anomaly = []\n",
    "test_anomaly = []\n",
    "\n",
    "for group_name, group_data in grouped_train:\n",
    "    test_group = scaled_test_data[scaled_test_data['type'] == group_name]\n",
    "    train_group = group_data.drop(drop_feature, axis=1).values\n",
    "    test_group = test_group.drop(drop_feature, axis=1).values\n",
    "\n",
    "    best_n_components = find_best_n_components(train_group)\n",
    "    gmm = GaussianMixture(n_components=best_n_components, random_state=cfg.SEED)\n",
    "    gmm.fit(train_group)\n",
    "    train_mean_distance = (((train_group - gmm.means_[gmm.predict(train_group)])) ** 2).sum(axis=1)\n",
    "    test_mean_distance = (((test_group - gmm.means_[gmm.predict(test_group)])) ** 2).sum(axis=1)\n",
    "\n",
    "    train_anomaly.append(train_mean_distance)\n",
    "    test_anomaly.append(test_mean_distance)\n",
    "    print(f\"finish {group_name}type\")\n",
    "\n",
    "train_anomaly = np.concatenate(train_anomaly)\n",
    "test_anomaly = np.concatenate(test_anomaly)\n",
    "\n",
    "\n",
    "pd.DataFrame(train_anomaly, columns=['GaussianMixture']).to_csv('Train_GaussianMixture.csv', index=False)\n",
    "pd.DataFrame(test_anomaly, columns=['GaussianMixture']).to_csv('Test_GaussianMixture.csv', index=False)"
   ]
  },
  {
   "attachments": {},
   "cell_type": "markdown",
   "metadata": {},
   "source": [
    "---"
   ]
  },
  {
   "cell_type": "code",
   "execution_count": 42,
   "metadata": {},
   "outputs": [],
   "source": [
    "from sklearn.neighbors import NearestNeighbors\n",
    "\n",
    "def knn_based_outlier_detection(train_data, test_data, k=5):\n",
    "    \"\"\"\n",
    "    :param train_data: feature matrix of training data, shape: (n_samples, n_features)\n",
    "    :param test_data: feature matrix of test data, shape: (n_samples, n_features)\n",
    "    :param k: number of nearest neighbors\n",
    "    :param threshold: outlier threshold\n",
    "    :return: outlier scores for each point in the test data\n",
    "    \"\"\"\n",
    "    nbrs = NearestNeighbors(n_neighbors=k+1).fit(train_data)  # including itself\n",
    "    \n",
    "    train_distances, _ = nbrs.kneighbors(train_data)\n",
    "    test_distances, _ = nbrs.kneighbors(test_data)\n",
    "\n",
    "    \n",
    "    train_mean_distance_to_k_neighbors = train_distances[:, 1:].mean(axis=1)\n",
    "    train_max_distance_to_k_neighbors = train_distances[:, 1:].max(axis=1)\n",
    "    train_outlier_scores = train_max_distance_to_k_neighbors - train_mean_distance_to_k_neighbors\n",
    "\n",
    "    test_mean_distance_to_k_neighbors = test_distances[:, 1:].mean(axis=1)\n",
    "    test_max_distance_to_k_neighbors = test_distances[:, 1:].max(axis=1)\n",
    "    test_outlier_scores = test_max_distance_to_k_neighbors - test_mean_distance_to_k_neighbors\n",
    "    \n",
    "    return train_outlier_scores, test_outlier_scores\n"
   ]
  },
  {
   "cell_type": "code",
   "execution_count": null,
   "metadata": {},
   "outputs": [],
   "source": [
    "pd.DataFrame(train_outlier_scores, columns=['KNN']).to_csv('Train_KNN.csv', index=False)\n",
    "pd.DataFrame(test_outlier_scores, columns=['KNN']).to_csv('Test_KNN.csv', index=False)"
   ]
  }
 ],
 "metadata": {
  "kernelspec": {
   "display_name": "base",
   "language": "python",
   "name": "python3"
  },
  "language_info": {
   "codemirror_mode": {
    "name": "ipython",
    "version": 3
   },
   "file_extension": ".py",
   "mimetype": "text/x-python",
   "name": "python",
   "nbconvert_exporter": "python",
   "pygments_lexer": "ipython3",
   "version": "3.9.13"
  },
  "orig_nbformat": 4
 },
 "nbformat": 4,
 "nbformat_minor": 2
}
