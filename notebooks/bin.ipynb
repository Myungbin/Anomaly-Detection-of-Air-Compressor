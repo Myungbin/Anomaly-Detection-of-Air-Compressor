{
 "cells": [
  {
   "cell_type": "code",
   "execution_count": 36,
   "metadata": {},
   "outputs": [],
   "source": [
    "import warnings\n",
    "\n",
    "import pandas as pd\n",
    "import matplotlib.pyplot as plt\n",
    "from sklearn.preprocessing import MinMaxScaler\n",
    "import torch\n",
    "import torch.nn as nn\n",
    "import torch.optim as optim\n",
    "import numpy as np\n",
    "\n",
    "from src.features import build_features\n",
    "from src.models import predict_model\n",
    "from src.train.train import train, evaluation, prediction_to_csv\n",
    "from src.data.make_dataset import DatasetLoader\n",
    "from src.visualization.visual import anomaly_plot\n",
    "from src.config.config import seed_everything, cfg\n",
    "\n",
    "warnings.filterwarnings(action='ignore')\n",
    "seed_everything(cfg.SEED)\n",
    "\n",
    "scaler = MinMaxScaler()\n",
    "\n",
    "df = pd.read_csv(r'data\\raw\\train_data.csv')"
   ]
  },
  {
   "cell_type": "code",
   "execution_count": 37,
   "metadata": {},
   "outputs": [],
   "source": [
    "import pandas as pd\n",
    "import numpy as np\n",
    "\n",
    "def outlier_z_score_filter_df(df, threshold=3):\n",
    "    \"\"\"\n",
    "    데이터프레임의 모든 feature에 대해 Z-score 방법을 이용하여 이상치를 제거하고, NA 값을 가진 행을 제거하는 함수\n",
    "    :param df: 이상치를 제거할 데이터프레임\n",
    "    :param threshold: 이상치 판단 기준값 (일반적으로 3 사용)\n",
    "    :return: 이상치가 제거된 데이터프레임\n",
    "    \"\"\"\n",
    "    # 데이터프레임의 모든 feature에 대해 Z-score 방법을 이용하여 이상치 제거\n",
    "    filtered_df = df.apply(lambda x: x[np.abs((x - x.mean()) / x.std()) < threshold])\n",
    "\n",
    "    # NA 값을 가진 행 제거\n",
    "    filtered_df = filtered_df.dropna()\n",
    "\n",
    "    # 결과 반환\n",
    "    return filtered_df\n"
   ]
  },
  {
   "cell_type": "code",
   "execution_count": 38,
   "metadata": {},
   "outputs": [
    {
     "name": "stdout",
     "output_type": "stream",
     "text": [
      "Original data:  (2463, 8)\n",
      "Filtered data:  (2405, 8)\n"
     ]
    }
   ],
   "source": [
    "filtered_data = outlier_z_score_filter_df(df)\n",
    "\n",
    "# 결과 출력\n",
    "print(\"Original data: \", df.shape)\n",
    "print(\"Filtered data: \", filtered_data.shape)"
   ]
  },
  {
   "cell_type": "code",
   "execution_count": null,
   "metadata": {},
   "outputs": [],
   "source": []
  }
 ],
 "metadata": {
  "kernelspec": {
   "display_name": "base",
   "language": "python",
   "name": "python3"
  },
  "language_info": {
   "codemirror_mode": {
    "name": "ipython",
    "version": 3
   },
   "file_extension": ".py",
   "mimetype": "text/x-python",
   "name": "python",
   "nbconvert_exporter": "python",
   "pygments_lexer": "ipython3",
   "version": "3.9.13"
  },
  "orig_nbformat": 4
 },
 "nbformat": 4,
 "nbformat_minor": 2
}
