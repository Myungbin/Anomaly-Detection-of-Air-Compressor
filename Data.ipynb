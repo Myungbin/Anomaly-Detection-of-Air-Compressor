{
 "cells": [
  {
   "cell_type": "code",
   "execution_count": 47,
   "metadata": {},
   "outputs": [
    {
     "name": "stdout",
     "output_type": "stream",
     "text": [
      "30\n",
      "Epoch [0/2000], Loss: 0.2084727\n",
      "Epoch [100/2000], Loss: 0.0009943\n",
      "Epoch [200/2000], Loss: 0.0001962\n",
      "Epoch [300/2000], Loss: 0.0000818\n",
      "Epoch [400/2000], Loss: 0.0000364\n",
      "Epoch [500/2000], Loss: 0.0000198\n",
      "Epoch [600/2000], Loss: 0.0000156\n",
      "Epoch [700/2000], Loss: 0.0000091\n",
      "Epoch [800/2000], Loss: 0.0000089\n",
      "Epoch [900/2000], Loss: 0.0000077\n",
      "Epoch [1000/2000], Loss: 0.0000063\n",
      "Epoch [1100/2000], Loss: 0.0000044\n",
      "Epoch [1200/2000], Loss: 0.0000041\n",
      "Epoch [1300/2000], Loss: 0.0000036\n",
      "Epoch [1400/2000], Loss: 0.0000043\n",
      "Epoch [1500/2000], Loss: 0.0000033\n",
      "Epoch [1600/2000], Loss: 0.0000036\n",
      "Epoch [1700/2000], Loss: 0.0000029\n",
      "Epoch [1800/2000], Loss: 0.0000028\n",
      "Epoch [1900/2000], Loss: 0.0000026\n",
      "0.9997433423995972\n",
      "label\n",
      "0    7045\n",
      "1     344\n",
      "Name: count, dtype: int64\n"
     ]
    }
   ],
   "source": [
    "import warnings\n",
    "\n",
    "import pandas as pd\n",
    "import matplotlib.pyplot as plt\n",
    "from sklearn.preprocessing import StandardScaler, MinMaxScaler, RobustScaler\n",
    "import torch\n",
    "import torch.nn as nn\n",
    "import torch.optim as optim\n",
    "from torch.optim.lr_scheduler import StepLR\n",
    "from lion_pytorch import Lion\n",
    "\n",
    "from src.features import build_features_op, utils, build_features_optim, build_features, build_features_optimizer\n",
    "from src.models import predict_model\n",
    "from src.train.train import train, evaluation, prediction_to_csv\n",
    "from src.data.make_dataset import DatasetLoader\n",
    "from src.config.config import seed_everything, cfg\n",
    "from src.visualization.visual import plot_label_counts\n",
    "\n",
    "warnings.filterwarnings(action='ignore')\n",
    "seed_everything(cfg.SEED)\n",
    "\n",
    "scaler = MinMaxScaler()\n",
    "\n",
    "drop_feature = ['type', 'motor_hp']\n",
    "\n",
    "# 데이터 전처리\n",
    "train_data = pd.read_csv(r'data\\raw\\train_data.csv')\n",
    "# train_data = utils.outlier_z_score_filter_df(train_data)\n",
    "train_data = build_features.create_derived_features(train_data)\n",
    "train_data = train_data.drop(drop_feature, axis=1)\n",
    "\n",
    "test_data = pd.read_csv(r'data\\raw\\test_data.csv')\n",
    "test_data = build_features.create_derived_features(test_data)\n",
    "test_data = test_data.drop(drop_feature, axis=1)\n",
    "test_data_raw = test_data.copy()\n",
    "\n",
    "scaled_train_data = scaler.fit_transform(train_data)\n",
    "scaled_test_data = scaler.transform(test_data)\n",
    "\n",
    "scaled_train_data_df = pd.DataFrame(scaled_train_data, columns=train_data.columns)\n",
    "scaled_test_data_df = pd.DataFrame(scaled_test_data, columns=train_data.columns)\n",
    "\n",
    "n_features = scaled_train_data.shape[1]\n",
    "print(n_features)\n",
    "\n",
    "scaled_train_data = scaled_train_data_df.values\n",
    "scaled_test_data = scaled_test_data_df.values\n",
    "\n",
    "# 데이터 로더\n",
    "dataloader = DatasetLoader(scaled_train_data, scaled_test_data)\n",
    "train_loader, test_loader = dataloader.load\n",
    "\n",
    "# 학습 파라미터\n",
    "model = predict_model.SingleAutoEncoder(input_dim=n_features, hidden_dim=512)\n",
    "criterion = nn.MSELoss()\n",
    "optimizer = optim.Adam(model.parameters(), lr=1e-4)\n",
    "# optimizer = Lion(model.parameters(), lr=cfg.LEARNING_RATE)\n",
    "\n",
    "# 학습\n",
    "train(train_loader, model, criterion, optimizer)\n",
    "\n",
    "# 예측\n",
    "train_prediction, train_cosine = evaluation(train_loader, model)\n",
    "print(min(train_cosine))\n",
    "prediction, test_cosine = evaluation(test_loader, model, min(train_cosine))\n",
    "\n",
    "# 제출\n",
    "submission = prediction_to_csv(prediction)\n"
   ]
  },
  {
   "attachments": {},
   "cell_type": "markdown",
   "metadata": {},
   "source": [
    "---\n",
    "Classification"
   ]
  },
  {
   "cell_type": "code",
   "execution_count": 89,
   "metadata": {},
   "outputs": [],
   "source": [
    "import optuna\n",
    "from optuna import Trial, visualization\n",
    "from optuna.samplers import TPESampler # Tree-structured Parzen Estimator algorithm\n",
    "from xgboost import XGBClassifier\n",
    "from sklearn.model_selection import train_test_split\n",
    "from sklearn.metrics import f1_score"
   ]
  },
  {
   "cell_type": "code",
   "execution_count": 81,
   "metadata": {},
   "outputs": [],
   "source": [
    "scaled_test_data_df['label'] = prediction\n",
    "scaled_train_data_df['label'] = train_prediction\n",
    "cls_data = pd.concat([scaled_train_data_df, scaled_test_data_df], axis=0)\n",
    "\n",
    "x_train = cls_data.drop('label', axis=1)\n",
    "y_train = cls_data['label']"
   ]
  },
  {
   "cell_type": "code",
   "execution_count": 85,
   "metadata": {},
   "outputs": [],
   "source": [
    "x_test = scaled_test_data_df.drop('label', axis=1)"
   ]
  },
  {
   "cell_type": "code",
   "execution_count": 90,
   "metadata": {},
   "outputs": [
    {
     "name": "stderr",
     "output_type": "stream",
     "text": [
      "\u001b[32m[I 2023-04-14 16:16:07,216]\u001b[0m A new study created in memory with name: no-name-bed3c3d9-60f3-42a9-ade3-8394d5be52f4\u001b[0m\n",
      "\u001b[32m[I 2023-04-14 16:16:07,999]\u001b[0m Trial 0 finished with value: 0.49017071908949816 and parameters: {'n_estimators': 569, 'max_depth': 9, 'min_child_weight': 256, 'gamma': 3, 'lambda': 0.0019125176975567644, 'alpha': 0.00978835483595627, 'subsample': 0.8}. Best is trial 0 with value: 0.49017071908949816.\u001b[0m\n",
      "\u001b[32m[I 2023-04-14 16:16:10,302]\u001b[0m Trial 1 finished with value: 0.9799645033209522 and parameters: {'n_estimators': 1269, 'max_depth': 14, 'min_child_weight': 20, 'gamma': 2, 'lambda': 0.8549651279568675, 'alpha': 1.436203049054979, 'subsample': 0.8}. Best is trial 1 with value: 0.9799645033209522.\u001b[0m\n",
      "\u001b[32m[I 2023-04-14 16:16:15,245]\u001b[0m Trial 2 finished with value: 0.49174832387828776 and parameters: {'n_estimators': 3528, 'max_depth': 9, 'min_child_weight': 156, 'gamma': 2, 'lambda': 0.18526785694767864, 'alpha': 6.827520922988961, 'subsample': 0.7}. Best is trial 1 with value: 0.9799645033209522.\u001b[0m\n",
      "\u001b[32m[I 2023-04-14 16:16:18,462]\u001b[0m Trial 3 finished with value: 0.49109217660728116 and parameters: {'n_estimators': 2969, 'max_depth': 12, 'min_child_weight': 285, 'gamma': 3, 'lambda': 0.04120375531929583, 'alpha': 0.23672483395304106, 'subsample': 1.0}. Best is trial 1 with value: 0.9799645033209522.\u001b[0m\n",
      "\u001b[32m[I 2023-04-14 16:16:24,351]\u001b[0m Trial 4 finished with value: 0.9757759242265338 and parameters: {'n_estimators': 3932, 'max_depth': 13, 'min_child_weight': 20, 'gamma': 3, 'lambda': 0.7477863941073623, 'alpha': 0.001339662521130626, 'subsample': 0.8}. Best is trial 1 with value: 0.9799645033209522.\u001b[0m\n",
      "\u001b[32m[I 2023-04-14 16:16:27,795]\u001b[0m Trial 5 finished with value: 0.4904343329886246 and parameters: {'n_estimators': 2491, 'max_depth': 12, 'min_child_weight': 158, 'gamma': 3, 'lambda': 7.90263420816398, 'alpha': 0.3331286430279463, 'subsample': 0.8}. Best is trial 1 with value: 0.9799645033209522.\u001b[0m\n",
      "\u001b[32m[I 2023-04-14 16:16:30,180]\u001b[0m Trial 6 finished with value: 0.9764119895547358 and parameters: {'n_estimators': 1559, 'max_depth': 14, 'min_child_weight': 20, 'gamma': 1, 'lambda': 1.5569462551287583, 'alpha': 0.010493982915312016, 'subsample': 0.8}. Best is trial 1 with value: 0.9799645033209522.\u001b[0m\n",
      "\u001b[32m[I 2023-04-14 16:16:33,688]\u001b[0m Trial 7 finished with value: 0.9249074201069811 and parameters: {'n_estimators': 2211, 'max_depth': 12, 'min_child_weight': 59, 'gamma': 2, 'lambda': 1.141251062515759, 'alpha': 1.2827881338020288, 'subsample': 1.0}. Best is trial 1 with value: 0.9799645033209522.\u001b[0m\n",
      "\u001b[32m[I 2023-04-14 16:16:36,192]\u001b[0m Trial 8 finished with value: 0.9540516598284222 and parameters: {'n_estimators': 1986, 'max_depth': 8, 'min_child_weight': 40, 'gamma': 2, 'lambda': 0.4819071683729706, 'alpha': 2.635553456230518, 'subsample': 0.8}. Best is trial 1 with value: 0.9799645033209522.\u001b[0m\n",
      "\u001b[32m[I 2023-04-14 16:16:37,097]\u001b[0m Trial 9 finished with value: 0.491223541559112 and parameters: {'n_estimators': 563, 'max_depth': 15, 'min_child_weight': 207, 'gamma': 3, 'lambda': 5.884010399915201, 'alpha': 0.007491438854704799, 'subsample': 0.6}. Best is trial 1 with value: 0.9799645033209522.\u001b[0m\n",
      "\u001b[32m[I 2023-04-14 16:16:39,128]\u001b[0m Trial 10 finished with value: 0.48924591863176986 and parameters: {'n_estimators': 1265, 'max_depth': 16, 'min_child_weight': 93, 'gamma': 1, 'lambda': 0.04805984045784733, 'alpha': 9.390875147118756, 'subsample': 0.6}. Best is trial 1 with value: 0.9799645033209522.\u001b[0m\n",
      "\u001b[32m[I 2023-04-14 16:16:40,942]\u001b[0m Trial 11 finished with value: 0.9508086253369272 and parameters: {'n_estimators': 1355, 'max_depth': 14, 'min_child_weight': 96, 'gamma': 1, 'lambda': 2.321039785504581, 'alpha': 0.05217103475358643, 'subsample': 0.8}. Best is trial 1 with value: 0.9799645033209522.\u001b[0m\n",
      "\u001b[32m[I 2023-04-14 16:16:43,555]\u001b[0m Trial 12 finished with value: 0.9771529473586597 and parameters: {'n_estimators': 1418, 'max_depth': 14, 'min_child_weight': 3, 'gamma': 1, 'lambda': 1.8983314758280647, 'alpha': 0.050365943245201085, 'subsample': 0.7}. Best is trial 1 with value: 0.9799645033209522.\u001b[0m\n",
      "\u001b[32m[I 2023-04-14 16:16:45,292]\u001b[0m Trial 13 finished with value: 0.9471150968514257 and parameters: {'n_estimators': 1131, 'max_depth': 16, 'min_child_weight': 78, 'gamma': 1, 'lambda': 0.24394845733603135, 'alpha': 0.0897456662132178, 'subsample': 0.7}. Best is trial 1 with value: 0.9799645033209522.\u001b[0m\n",
      "\u001b[32m[I 2023-04-14 16:16:48,371]\u001b[0m Trial 14 finished with value: 0.9966421629172807 and parameters: {'n_estimators': 1883, 'max_depth': 14, 'min_child_weight': 2, 'gamma': 2, 'lambda': 2.3456811220938243, 'alpha': 0.8665324516254036, 'subsample': 0.7}. Best is trial 14 with value: 0.9966421629172807.\u001b[0m\n",
      "\u001b[32m[I 2023-04-14 16:16:50,640]\u001b[0m Trial 15 finished with value: 0.49082924308964093 and parameters: {'n_estimators': 1929, 'max_depth': 11, 'min_child_weight': 117, 'gamma': 2, 'lambda': 8.543297520943803, 'alpha': 0.9697658112284959, 'subsample': 0.7}. Best is trial 14 with value: 0.9966421629172807.\u001b[0m\n",
      "\u001b[32m[I 2023-04-14 16:16:54,059]\u001b[0m Trial 16 finished with value: 0.9934066154628416 and parameters: {'n_estimators': 2447, 'max_depth': 15, 'min_child_weight': 1, 'gamma': 2, 'lambda': 0.5133181622705593, 'alpha': 0.6176085886472151, 'subsample': 0.7}. Best is trial 14 with value: 0.9966421629172807.\u001b[0m\n",
      "\u001b[32m[I 2023-04-14 16:16:57,099]\u001b[0m Trial 17 finished with value: 0.490038809831824 and parameters: {'n_estimators': 2703, 'max_depth': 15, 'min_child_weight': 129, 'gamma': 2, 'lambda': 0.2818800353272837, 'alpha': 0.42954447099929094, 'subsample': 0.7}. Best is trial 14 with value: 0.9966421629172807.\u001b[0m\n",
      "\u001b[32m[I 2023-04-14 16:17:00,205]\u001b[0m Trial 18 finished with value: 0.491223541559112 and parameters: {'n_estimators': 2735, 'max_depth': 15, 'min_child_weight': 195, 'gamma': 2, 'lambda': 3.584892289605276, 'alpha': 3.2583088539240146, 'subsample': 0.7}. Best is trial 14 with value: 0.9966421629172807.\u001b[0m\n",
      "\u001b[32m[I 2023-04-14 16:17:04,080]\u001b[0m Trial 19 finished with value: 0.9356723237597913 and parameters: {'n_estimators': 3193, 'max_depth': 13, 'min_child_weight': 56, 'gamma': 2, 'lambda': 3.0985373841495565, 'alpha': 0.5274510114846046, 'subsample': 0.7}. Best is trial 14 with value: 0.9966421629172807.\u001b[0m\n",
      "\u001b[32m[I 2023-04-14 16:17:07,853]\u001b[0m Trial 20 finished with value: 0.9850461664521253 and parameters: {'n_estimators': 1789, 'max_depth': 16, 'min_child_weight': 3, 'gamma': 2, 'lambda': 0.11077454474341188, 'alpha': 0.1934108363888838, 'subsample': 0.7}. Best is trial 14 with value: 0.9966421629172807.\u001b[0m\n",
      "\u001b[32m[I 2023-04-14 16:17:10,869]\u001b[0m Trial 21 finished with value: 0.9888142076399359 and parameters: {'n_estimators': 1805, 'max_depth': 16, 'min_child_weight': 1, 'gamma': 2, 'lambda': 0.07664639401088334, 'alpha': 0.18971166147015028, 'subsample': 0.7}. Best is trial 14 with value: 0.9966421629172807.\u001b[0m\n",
      "\u001b[32m[I 2023-04-14 16:17:13,612]\u001b[0m Trial 22 finished with value: 0.9427450980392157 and parameters: {'n_estimators': 2280, 'max_depth': 15, 'min_child_weight': 51, 'gamma': 2, 'lambda': 0.4452751339330103, 'alpha': 0.700960060395369, 'subsample': 0.7}. Best is trial 14 with value: 0.9966421629172807.\u001b[0m\n",
      "\u001b[32m[I 2023-04-14 16:17:16,726]\u001b[0m Trial 23 finished with value: 0.9389789579054911 and parameters: {'n_estimators': 2326, 'max_depth': 16, 'min_child_weight': 34, 'gamma': 2, 'lambda': 0.059571948130433997, 'alpha': 0.1666209389635956, 'subsample': 0.7}. Best is trial 14 with value: 0.9966421629172807.\u001b[0m\n",
      "\u001b[32m[I 2023-04-14 16:17:18,532]\u001b[0m Trial 24 finished with value: 0.9966000652042291 and parameters: {'n_estimators': 875, 'max_depth': 13, 'min_child_weight': 1, 'gamma': 2, 'lambda': 0.01815529265064602, 'alpha': 0.48393313089484935, 'subsample': 0.6}. Best is trial 14 with value: 0.9966421629172807.\u001b[0m\n",
      "\u001b[32m[I 2023-04-14 16:17:20,260]\u001b[0m Trial 25 finished with value: 0.9451324266284895 and parameters: {'n_estimators': 996, 'max_depth': 13, 'min_child_weight': 71, 'gamma': 2, 'lambda': 0.025705569717679837, 'alpha': 0.6420872192935309, 'subsample': 0.6}. Best is trial 14 with value: 0.9966421629172807.\u001b[0m\n",
      "\u001b[32m[I 2023-04-14 16:17:21,563]\u001b[0m Trial 26 finished with value: 0.9484301412872842 and parameters: {'n_estimators': 750, 'max_depth': 11, 'min_child_weight': 32, 'gamma': 1, 'lambda': 0.015958809576963242, 'alpha': 2.364748368840661, 'subsample': 0.6}. Best is trial 14 with value: 0.9966421629172807.\u001b[0m\n",
      "\u001b[32m[I 2023-04-14 16:17:23,594]\u001b[0m Trial 27 finished with value: 0.49082924308964093 and parameters: {'n_estimators': 1624, 'max_depth': 13, 'min_child_weight': 83, 'gamma': 3, 'lambda': 0.008251628669509509, 'alpha': 1.1641207463494316, 'subsample': 0.6}. Best is trial 14 with value: 0.9966421629172807.\u001b[0m\n",
      "\u001b[32m[I 2023-04-14 16:17:25,164]\u001b[0m Trial 28 finished with value: 0.49017071908949816 and parameters: {'n_estimators': 893, 'max_depth': 11, 'min_child_weight': 108, 'gamma': 2, 'lambda': 0.15429160444942897, 'alpha': 0.36014410943659725, 'subsample': 0.6}. Best is trial 14 with value: 0.9966421629172807.\u001b[0m\n",
      "\u001b[32m[I 2023-04-14 16:17:29,148]\u001b[0m Trial 29 finished with value: 0.4903025601241272 and parameters: {'n_estimators': 3152, 'max_depth': 10, 'min_child_weight': 179, 'gamma': 3, 'lambda': 0.0019230876345196885, 'alpha': 0.6940157841071247, 'subsample': 1.0}. Best is trial 14 with value: 0.9966421629172807.\u001b[0m\n",
      "\u001b[32m[I 2023-04-14 16:17:31,822]\u001b[0m Trial 30 finished with value: 0.49161722981686873 and parameters: {'n_estimators': 2090, 'max_depth': 14, 'min_child_weight': 243, 'gamma': 2, 'lambda': 0.4841158248766671, 'alpha': 1.9599626644122132, 'subsample': 0.6}. Best is trial 14 with value: 0.9966421629172807.\u001b[0m\n",
      "\u001b[32m[I 2023-04-14 16:17:34,823]\u001b[0m Trial 31 finished with value: 0.9909668371555849 and parameters: {'n_estimators': 1734, 'max_depth': 15, 'min_child_weight': 2, 'gamma': 2, 'lambda': 0.13739169151742692, 'alpha': 0.14255760798431463, 'subsample': 0.7}. Best is trial 14 with value: 0.9966421629172807.\u001b[0m\n",
      "\u001b[32m[I 2023-04-14 16:17:38,905]\u001b[0m Trial 32 finished with value: 0.9657544956997655 and parameters: {'n_estimators': 2525, 'max_depth': 15, 'min_child_weight': 19, 'gamma': 2, 'lambda': 0.9171407641785395, 'alpha': 0.3659827355693272, 'subsample': 0.7}. Best is trial 14 with value: 0.9966421629172807.\u001b[0m\n",
      "\u001b[32m[I 2023-04-14 16:17:40,907]\u001b[0m Trial 33 finished with value: 0.9381976671265521 and parameters: {'n_estimators': 1530, 'max_depth': 14, 'min_child_weight': 40, 'gamma': 2, 'lambda': 0.13587345427953873, 'alpha': 1.0523214708412174, 'subsample': 0.7}. Best is trial 14 with value: 0.9966421629172807.\u001b[0m\n",
      "\u001b[32m[I 2023-04-14 16:17:43,635]\u001b[0m Trial 34 finished with value: 0.9681814512874325 and parameters: {'n_estimators': 1761, 'max_depth': 13, 'min_child_weight': 17, 'gamma': 2, 'lambda': 0.09605533488096117, 'alpha': 3.995080817091606, 'subsample': 1.0}. Best is trial 14 with value: 0.9966421629172807.\u001b[0m\n",
      "\u001b[32m[I 2023-04-14 16:17:45,262]\u001b[0m Trial 35 finished with value: 0.932416678096283 and parameters: {'n_estimators': 1121, 'max_depth': 15, 'min_child_weight': 65, 'gamma': 2, 'lambda': 0.26068613467041873, 'alpha': 1.8287416058402555, 'subsample': 0.7}. Best is trial 14 with value: 0.9966421629172807.\u001b[0m\n",
      "\u001b[32m[I 2023-04-14 16:17:46,742]\u001b[0m Trial 36 finished with value: 0.9342512972572276 and parameters: {'n_estimators': 701, 'max_depth': 13, 'min_child_weight': 21, 'gamma': 2, 'lambda': 0.772186306451967, 'alpha': 4.125970514156606, 'subsample': 0.7}. Best is trial 14 with value: 0.9966421629172807.\u001b[0m\n",
      "\u001b[32m[I 2023-04-14 16:17:50,473]\u001b[0m Trial 37 finished with value: 0.9921617752326414 and parameters: {'n_estimators': 2535, 'max_depth': 14, 'min_child_weight': 2, 'gamma': 3, 'lambda': 1.1523694535862958, 'alpha': 0.2638536131584628, 'subsample': 0.6}. Best is trial 14 with value: 0.9966421629172807.\u001b[0m\n",
      "\u001b[32m[I 2023-04-14 16:17:55,225]\u001b[0m Trial 38 finished with value: 0.939925936085585 and parameters: {'n_estimators': 3476, 'max_depth': 14, 'min_child_weight': 51, 'gamma': 3, 'lambda': 4.644026024270564, 'alpha': 0.28777955563952107, 'subsample': 0.6}. Best is trial 14 with value: 0.9966421629172807.\u001b[0m\n",
      "\u001b[32m[I 2023-04-14 16:17:58,670]\u001b[0m Trial 39 finished with value: 0.9471150968514257 and parameters: {'n_estimators': 2725, 'max_depth': 12, 'min_child_weight': 31, 'gamma': 3, 'lambda': 1.435558086255497, 'alpha': 1.3834239175500758, 'subsample': 0.6}. Best is trial 14 with value: 0.9966421629172807.\u001b[0m\n",
      "\u001b[32m[I 2023-04-14 16:18:02,113]\u001b[0m Trial 40 finished with value: 0.49161722981686873 and parameters: {'n_estimators': 2480, 'max_depth': 12, 'min_child_weight': 139, 'gamma': 3, 'lambda': 1.2960098775658526, 'alpha': 0.5340621001676064, 'subsample': 0.6}. Best is trial 14 with value: 0.9966421629172807.\u001b[0m\n",
      "\u001b[32m[I 2023-04-14 16:18:06,512]\u001b[0m Trial 41 finished with value: 0.9920453628218582 and parameters: {'n_estimators': 2944, 'max_depth': 15, 'min_child_weight': 1, 'gamma': 2, 'lambda': 2.4353738560223435, 'alpha': 0.23878544556012915, 'subsample': 1.0}. Best is trial 14 with value: 0.9966421629172807.\u001b[0m\n",
      "\u001b[32m[I 2023-04-14 16:18:10,532]\u001b[0m Trial 42 finished with value: 0.9750206999104412 and parameters: {'n_estimators': 2950, 'max_depth': 14, 'min_child_weight': 15, 'gamma': 2, 'lambda': 2.461494339772677, 'alpha': 0.2911961038878043, 'subsample': 1.0}. Best is trial 14 with value: 0.9966421629172807.\u001b[0m\n",
      "\u001b[32m[I 2023-04-14 16:18:14,247]\u001b[0m Trial 43 finished with value: 0.9731547149986866 and parameters: {'n_estimators': 2935, 'max_depth': 14, 'min_child_weight': 42, 'gamma': 3, 'lambda': 1.8573075775202141, 'alpha': 0.7564233433586335, 'subsample': 1.0}. Best is trial 14 with value: 0.9966421629172807.\u001b[0m\n",
      "\u001b[32m[I 2023-04-14 16:18:19,184]\u001b[0m Trial 44 finished with value: 0.9806106990379129 and parameters: {'n_estimators': 3867, 'max_depth': 13, 'min_child_weight': 14, 'gamma': 2, 'lambda': 5.37315585002725, 'alpha': 0.4464375192749521, 'subsample': 1.0}. Best is trial 14 with value: 0.9966421629172807.\u001b[0m\n",
      "\u001b[32m[I 2023-04-14 16:18:23,923]\u001b[0m Trial 45 finished with value: 0.9686471009305655 and parameters: {'n_estimators': 3177, 'max_depth': 15, 'min_child_weight': 26, 'gamma': 2, 'lambda': 1.099729809077938, 'alpha': 0.26088873992676137, 'subsample': 0.8}. Best is trial 14 with value: 0.9966421629172807.\u001b[0m\n",
      "\u001b[32m[I 2023-04-14 16:18:27,093]\u001b[0m Trial 46 finished with value: 0.4903025601241272 and parameters: {'n_estimators': 2515, 'max_depth': 14, 'min_child_weight': 289, 'gamma': 2, 'lambda': 3.0589848542343026, 'alpha': 0.11113248744210047, 'subsample': 1.0}. Best is trial 14 with value: 0.9966421629172807.\u001b[0m\n",
      "\u001b[32m[I 2023-04-14 16:18:30,059]\u001b[0m Trial 47 finished with value: 0.491223541559112 and parameters: {'n_estimators': 2099, 'max_depth': 14, 'min_child_weight': 243, 'gamma': 1, 'lambda': 0.5737584464871451, 'alpha': 0.9580538247001882, 'subsample': 0.6}. Best is trial 14 with value: 0.9966421629172807.\u001b[0m\n",
      "\u001b[32m[I 2023-04-14 16:18:35,006]\u001b[0m Trial 48 finished with value: 0.9823344357505848 and parameters: {'n_estimators': 3445, 'max_depth': 15, 'min_child_weight': 11, 'gamma': 2, 'lambda': 1.78890852067451, 'alpha': 1.5079963720133154, 'subsample': 0.8}. Best is trial 14 with value: 0.9966421629172807.\u001b[0m\n",
      "\u001b[32m[I 2023-04-14 16:18:38,466]\u001b[0m Trial 49 finished with value: 0.9502611855553031 and parameters: {'n_estimators': 2869, 'max_depth': 8, 'min_child_weight': 36, 'gamma': 3, 'lambda': 7.821020786288085, 'alpha': 0.23944828672688756, 'subsample': 1.0}. Best is trial 14 with value: 0.9966421629172807.\u001b[0m\n",
      "\u001b[32m[I 2023-04-14 16:18:42,033]\u001b[0m Trial 50 finished with value: 0.9304747190416728 and parameters: {'n_estimators': 2422, 'max_depth': 16, 'min_child_weight': 48, 'gamma': 1, 'lambda': 0.7084769882581933, 'alpha': 0.4672313127344984, 'subsample': 0.6}. Best is trial 14 with value: 0.9966421629172807.\u001b[0m\n",
      "\u001b[32m[I 2023-04-14 16:18:45,517]\u001b[0m Trial 51 finished with value: 0.9891156487629245 and parameters: {'n_estimators': 2233, 'max_depth': 15, 'min_child_weight': 9, 'gamma': 2, 'lambda': 0.4101956221070453, 'alpha': 0.1307704461977923, 'subsample': 0.7}. Best is trial 14 with value: 0.9966421629172807.\u001b[0m\n",
      "\u001b[32m[I 2023-04-14 16:18:48,949]\u001b[0m Trial 52 finished with value: 0.9881560208396345 and parameters: {'n_estimators': 1944, 'max_depth': 15, 'min_child_weight': 1, 'gamma': 2, 'lambda': 0.18725310034126577, 'alpha': 0.07443773893405863, 'subsample': 0.7}. Best is trial 14 with value: 0.9966421629172807.\u001b[0m\n",
      "\u001b[32m[I 2023-04-14 16:18:53,102]\u001b[0m Trial 53 finished with value: 0.9783767772511849 and parameters: {'n_estimators': 2626, 'max_depth': 14, 'min_child_weight': 1, 'gamma': 2, 'lambda': 0.9749971368908295, 'alpha': 0.14934868359843873, 'subsample': 0.7}. Best is trial 14 with value: 0.9966421629172807.\u001b[0m\n",
      "\u001b[32m[I 2023-04-14 16:18:56,125]\u001b[0m Trial 54 finished with value: 0.9467076446094778 and parameters: {'n_estimators': 2163, 'max_depth': 16, 'min_child_weight': 25, 'gamma': 2, 'lambda': 2.409460094212566, 'alpha': 0.211239772842947, 'subsample': 0.6}. Best is trial 14 with value: 0.9966421629172807.\u001b[0m\n",
      "\u001b[32m[I 2023-04-14 16:18:57,853]\u001b[0m Trial 55 finished with value: 0.4906976744186047 and parameters: {'n_estimators': 1390, 'max_depth': 15, 'min_child_weight': 273, 'gamma': 2, 'lambda': 0.31242824499233346, 'alpha': 0.36465461890925327, 'subsample': 0.7}. Best is trial 14 with value: 0.9966421629172807.\u001b[0m\n",
      "\u001b[32m[I 2023-04-14 16:18:59,364]\u001b[0m Trial 56 finished with value: 0.9644362486828241 and parameters: {'n_estimators': 513, 'max_depth': 13, 'min_child_weight': 12, 'gamma': 2, 'lambda': 1.370640243091093, 'alpha': 0.15624263892454454, 'subsample': 0.8}. Best is trial 14 with value: 0.9966421629172807.\u001b[0m\n",
      "\u001b[32m[I 2023-04-14 16:19:03,195]\u001b[0m Trial 57 finished with value: 0.9458010229335094 and parameters: {'n_estimators': 2361, 'max_depth': 14, 'min_child_weight': 25, 'gamma': 2, 'lambda': 0.6034812713507903, 'alpha': 0.08499146206758783, 'subsample': 0.7}. Best is trial 14 with value: 0.9966421629172807.\u001b[0m\n",
      "\u001b[32m[I 2023-04-14 16:19:07,208]\u001b[0m Trial 58 finished with value: 0.9548341857779243 and parameters: {'n_estimators': 2808, 'max_depth': 15, 'min_child_weight': 62, 'gamma': 2, 'lambda': 0.8540127380226955, 'alpha': 0.8620670765893779, 'subsample': 1.0}. Best is trial 14 with value: 0.9966421629172807.\u001b[0m\n",
      "\u001b[32m[I 2023-04-14 16:19:11,806]\u001b[0m Trial 59 finished with value: 0.9438887834503701 and parameters: {'n_estimators': 3041, 'max_depth': 16, 'min_child_weight': 43, 'gamma': 2, 'lambda': 0.36666576674559453, 'alpha': 0.5704452176772196, 'subsample': 0.6}. Best is trial 14 with value: 0.9966421629172807.\u001b[0m\n",
      "\u001b[32m[I 2023-04-14 16:19:16,900]\u001b[0m Trial 60 finished with value: 0.9661659943352502 and parameters: {'n_estimators': 2605, 'max_depth': 13, 'min_child_weight': 10, 'gamma': 2, 'lambda': 0.19806210475519848, 'alpha': 0.21984926881776548, 'subsample': 0.7}. Best is trial 14 with value: 0.9966421629172807.\u001b[0m\n",
      "\u001b[32m[I 2023-04-14 16:19:20,939]\u001b[0m Trial 61 finished with value: 0.9963223563787804 and parameters: {'n_estimators': 2244, 'max_depth': 15, 'min_child_weight': 1, 'gamma': 2, 'lambda': 0.42026699855871347, 'alpha': 0.13858911805699087, 'subsample': 0.7}. Best is trial 14 with value: 0.9966421629172807.\u001b[0m\n",
      "\u001b[32m[I 2023-04-14 16:19:24,054]\u001b[0m Trial 62 finished with value: 0.9921617752326414 and parameters: {'n_estimators': 1683, 'max_depth': 15, 'min_child_weight': 4, 'gamma': 2, 'lambda': 0.31294545471030594, 'alpha': 0.12250162418062799, 'subsample': 0.7}. Best is trial 14 with value: 0.9966421629172807.\u001b[0m\n",
      "\u001b[32m[I 2023-04-14 16:19:26,865]\u001b[0m Trial 63 finished with value: 0.9666942665472549 and parameters: {'n_estimators': 1905, 'max_depth': 14, 'min_child_weight': 27, 'gamma': 2, 'lambda': 0.5355353076132028, 'alpha': 0.05476278068517019, 'subsample': 0.7}. Best is trial 14 with value: 0.9966421629172807.\u001b[0m\n",
      "\u001b[32m[I 2023-04-14 16:19:30,316]\u001b[0m Trial 64 finished with value: 0.9813570127332265 and parameters: {'n_estimators': 2052, 'max_depth': 15, 'min_child_weight': 12, 'gamma': 2, 'lambda': 0.3770587795506237, 'alpha': 0.324224250798241, 'subsample': 0.7}. Best is trial 14 with value: 0.9966421629172807.\u001b[0m\n",
      "\u001b[32m[I 2023-04-14 16:19:34,801]\u001b[0m Trial 65 finished with value: 0.9297731202515065 and parameters: {'n_estimators': 3346, 'max_depth': 16, 'min_child_weight': 32, 'gamma': 2, 'lambda': 0.7141166163751698, 'alpha': 0.4494241779678763, 'subsample': 0.7}. Best is trial 14 with value: 0.9966421629172807.\u001b[0m\n",
      "\u001b[32m[I 2023-04-14 16:19:37,101]\u001b[0m Trial 66 finished with value: 0.9616322151831657 and parameters: {'n_estimators': 1598, 'max_depth': 15, 'min_child_weight': 21, 'gamma': 2, 'lambda': 1.0947306161460848, 'alpha': 0.12303060390184244, 'subsample': 0.7}. Best is trial 14 with value: 0.9966421629172807.\u001b[0m\n",
      "\u001b[32m[I 2023-04-14 16:19:40,940]\u001b[0m Trial 67 finished with value: 0.9879787019925713 and parameters: {'n_estimators': 2326, 'max_depth': 9, 'min_child_weight': 1, 'gamma': 2, 'lambda': 0.2636188490450148, 'alpha': 0.1893450911740087, 'subsample': 0.6}. Best is trial 14 with value: 0.9966421629172807.\u001b[0m\n",
      "\u001b[32m[I 2023-04-14 16:19:42,870]\u001b[0m Trial 68 finished with value: 0.49096074380165294 and parameters: {'n_estimators': 1233, 'max_depth': 14, 'min_child_weight': 168, 'gamma': 2, 'lambda': 3.9749972860669454, 'alpha': 0.6744077457315488, 'subsample': 0.7}. Best is trial 14 with value: 0.9966421629172807.\u001b[0m\n",
      "\u001b[32m[I 2023-04-14 16:19:46,019]\u001b[0m Trial 69 finished with value: 0.9563195872633147 and parameters: {'n_estimators': 2200, 'max_depth': 16, 'min_child_weight': 87, 'gamma': 2, 'lambda': 1.6649123556737049, 'alpha': 0.10471819687264412, 'subsample': 1.0}. Best is trial 14 with value: 0.9966421629172807.\u001b[0m\n",
      "\u001b[32m[I 2023-04-14 16:19:48,818]\u001b[0m Trial 70 finished with value: 0.4935765673175745 and parameters: {'n_estimators': 1861, 'max_depth': 15, 'min_child_weight': 213, 'gamma': 1, 'lambda': 3.1120540717713476, 'alpha': 0.32410130367822765, 'subsample': 0.6}. Best is trial 14 with value: 0.9966421629172807.\u001b[0m\n",
      "\u001b[32m[I 2023-04-14 16:19:52,391]\u001b[0m Trial 71 finished with value: 0.9859593383578623 and parameters: {'n_estimators': 2018, 'max_depth': 15, 'min_child_weight': 7, 'gamma': 2, 'lambda': 0.15516811636954886, 'alpha': 0.15074294591253917, 'subsample': 0.7}. Best is trial 14 with value: 0.9966421629172807.\u001b[0m\n",
      "\u001b[32m[I 2023-04-14 16:19:54,818]\u001b[0m Trial 72 finished with value: 0.9818594146048739 and parameters: {'n_estimators': 1556, 'max_depth': 15, 'min_child_weight': 21, 'gamma': 2, 'lambda': 0.23569833831884182, 'alpha': 0.24090814440066427, 'subsample': 0.7}. Best is trial 14 with value: 0.9966421629172807.\u001b[0m\n",
      "\u001b[32m[I 2023-04-14 16:19:58,413]\u001b[0m Trial 73 finished with value: 0.9868132309256831 and parameters: {'n_estimators': 1813, 'max_depth': 14, 'min_child_weight': 7, 'gamma': 2, 'lambda': 0.33048333359315424, 'alpha': 0.07115530086724549, 'subsample': 0.7}. Best is trial 14 with value: 0.9966421629172807.\u001b[0m\n",
      "\u001b[32m[I 2023-04-14 16:20:00,872]\u001b[0m Trial 74 finished with value: 0.9521004027218442 and parameters: {'n_estimators': 1721, 'max_depth': 12, 'min_child_weight': 36, 'gamma': 2, 'lambda': 0.10835607406819767, 'alpha': 0.03341032791825281, 'subsample': 0.7}. Best is trial 14 with value: 0.9966421629172807.\u001b[0m\n",
      "\u001b[32m[I 2023-04-14 16:20:03,821]\u001b[0m Trial 75 finished with value: 0.9699629680427926 and parameters: {'n_estimators': 1714, 'max_depth': 15, 'min_child_weight': 17, 'gamma': 2, 'lambda': 0.44401721684637135, 'alpha': 0.5520257505943035, 'subsample': 0.7}. Best is trial 14 with value: 0.9966421629172807.\u001b[0m\n",
      "\u001b[32m[I 2023-04-14 16:20:05,659]\u001b[0m Trial 76 finished with value: 0.9500413998208823 and parameters: {'n_estimators': 1022, 'max_depth': 14, 'min_child_weight': 54, 'gamma': 2, 'lambda': 0.6120947253118296, 'alpha': 0.8259566924125409, 'subsample': 0.7}. Best is trial 14 with value: 0.9966421629172807.\u001b[0m\n",
      "\u001b[32m[I 2023-04-14 16:20:07,095]\u001b[0m Trial 77 finished with value: 0.9294559770937724 and parameters: {'n_estimators': 768, 'max_depth': 16, 'min_child_weight': 29, 'gamma': 2, 'lambda': 0.07406545918045551, 'alpha': 0.17935245322107105, 'subsample': 0.8}. Best is trial 14 with value: 0.9966421629172807.\u001b[0m\n",
      "\u001b[32m[I 2023-04-14 16:20:09,806]\u001b[0m Trial 78 finished with value: 0.9881560208396345 and parameters: {'n_estimators': 1472, 'max_depth': 13, 'min_child_weight': 7, 'gamma': 2, 'lambda': 0.8974753940713097, 'alpha': 0.3962821127543837, 'subsample': 0.6}. Best is trial 14 with value: 0.9966421629172807.\u001b[0m\n",
      "\u001b[32m[I 2023-04-14 16:20:13,646]\u001b[0m Trial 79 finished with value: 0.9552512357973602 and parameters: {'n_estimators': 2611, 'max_depth': 14, 'min_child_weight': 71, 'gamma': 2, 'lambda': 1.2535735827537968, 'alpha': 0.2868061443884348, 'subsample': 1.0}. Best is trial 14 with value: 0.9966421629172807.\u001b[0m\n",
      "\u001b[32m[I 2023-04-14 16:20:16,120]\u001b[0m Trial 80 finished with value: 0.9749402886126071 and parameters: {'n_estimators': 1294, 'max_depth': 15, 'min_child_weight': 1, 'gamma': 3, 'lambda': 0.29722767403346806, 'alpha': 1.1011057606902148, 'subsample': 0.7}. Best is trial 14 with value: 0.9966421629172807.\u001b[0m\n",
      "\u001b[32m[I 2023-04-14 16:20:19,860]\u001b[0m Trial 81 finished with value: 0.9772231942072263 and parameters: {'n_estimators': 2226, 'max_depth': 15, 'min_child_weight': 13, 'gamma': 2, 'lambda': 0.4060916012511517, 'alpha': 0.09793860618469546, 'subsample': 0.7}. Best is trial 14 with value: 0.9966421629172807.\u001b[0m\n",
      "\u001b[32m[I 2023-04-14 16:20:23,370]\u001b[0m Trial 82 finished with value: 0.9774722260320945 and parameters: {'n_estimators': 2433, 'max_depth': 15, 'min_child_weight': 17, 'gamma': 2, 'lambda': 0.21749637926712384, 'alpha': 0.24107304016806247, 'subsample': 0.7}. Best is trial 14 with value: 0.9966421629172807.\u001b[0m\n",
      "\u001b[32m[I 2023-04-14 16:20:26,493]\u001b[0m Trial 83 finished with value: 0.9438887834503701 and parameters: {'n_estimators': 2132, 'max_depth': 16, 'min_child_weight': 44, 'gamma': 2, 'lambda': 0.14508655147246682, 'alpha': 0.13074737423165367, 'subsample': 0.7}. Best is trial 14 with value: 0.9966421629172807.\u001b[0m\n",
      "\u001b[32m[I 2023-04-14 16:20:29,127]\u001b[0m Trial 84 finished with value: 0.9838506161510225 and parameters: {'n_estimators': 1660, 'max_depth': 15, 'min_child_weight': 10, 'gamma': 2, 'lambda': 0.430928708839679, 'alpha': 0.12064017186306168, 'subsample': 0.7}. Best is trial 14 with value: 0.9966421629172807.\u001b[0m\n",
      "\u001b[32m[I 2023-04-14 16:20:32,358]\u001b[0m Trial 85 finished with value: 0.9869711792702274 and parameters: {'n_estimators': 1973, 'max_depth': 14, 'min_child_weight': 7, 'gamma': 2, 'lambda': 0.5428914645834639, 'alpha': 0.16002973752444974, 'subsample': 0.7}. Best is trial 14 with value: 0.9966421629172807.\u001b[0m\n",
      "\u001b[32m[I 2023-04-14 16:20:35,627]\u001b[0m Trial 86 finished with value: 0.9426100628930818 and parameters: {'n_estimators': 2294, 'max_depth': 15, 'min_child_weight': 23, 'gamma': 2, 'lambda': 2.0823675501525973, 'alpha': 0.4886724912078803, 'subsample': 0.6}. Best is trial 14 with value: 0.9966421629172807.\u001b[0m\n",
      "\u001b[32m[I 2023-04-14 16:20:39,226]\u001b[0m Trial 87 finished with value: 0.9554642409843896 and parameters: {'n_estimators': 2776, 'max_depth': 16, 'min_child_weight': 36, 'gamma': 2, 'lambda': 1.5245179129452782, 'alpha': 0.38430427495119696, 'subsample': 0.7}. Best is trial 14 with value: 0.9966421629172807.\u001b[0m\n",
      "\u001b[32m[I 2023-04-14 16:20:42,472]\u001b[0m Trial 88 finished with value: 0.9333594157537819 and parameters: {'n_estimators': 2397, 'max_depth': 13, 'min_child_weight': 103, 'gamma': 2, 'lambda': 0.3114355748523432, 'alpha': 0.19766955507521153, 'subsample': 1.0}. Best is trial 14 with value: 0.9966421629172807.\u001b[0m\n",
      "\u001b[32m[I 2023-04-14 16:20:46,582]\u001b[0m Trial 89 finished with value: 0.9925941233937026 and parameters: {'n_estimators': 2541, 'max_depth': 14, 'min_child_weight': 1, 'gamma': 2, 'lambda': 0.747279396956306, 'alpha': 0.2791943938111588, 'subsample': 0.6}. Best is trial 14 with value: 0.9966421629172807.\u001b[0m\n",
      "\u001b[32m[I 2023-04-14 16:20:51,798]\u001b[0m Trial 90 finished with value: 0.9951967247072586 and parameters: {'n_estimators': 3090, 'max_depth': 14, 'min_child_weight': 1, 'gamma': 2, 'lambda': 1.034657857352632, 'alpha': 0.812023068159366, 'subsample': 0.6}. Best is trial 14 with value: 0.9966421629172807.\u001b[0m\n",
      "\u001b[32m[I 2023-04-14 16:20:56,511]\u001b[0m Trial 91 finished with value: 0.9522721769311486 and parameters: {'n_estimators': 3243, 'max_depth': 14, 'min_child_weight': 19, 'gamma': 2, 'lambda': 1.0927267335250255, 'alpha': 0.6760933955206648, 'subsample': 0.6}. Best is trial 14 with value: 0.9966421629172807.\u001b[0m\n",
      "\u001b[32m[I 2023-04-14 16:21:01,004]\u001b[0m Trial 92 finished with value: 0.9931572003888349 and parameters: {'n_estimators': 2689, 'max_depth': 14, 'min_child_weight': 3, 'gamma': 2, 'lambda': 0.7080305159809349, 'alpha': 1.0015060498548662, 'subsample': 0.6}. Best is trial 14 with value: 0.9966421629172807.\u001b[0m\n",
      "\u001b[32m[I 2023-04-14 16:21:05,471]\u001b[0m Trial 93 finished with value: 0.971169036334913 and parameters: {'n_estimators': 2676, 'max_depth': 14, 'min_child_weight': 1, 'gamma': 2, 'lambda': 0.6888030566247744, 'alpha': 1.232628637963153, 'subsample': 0.6}. Best is trial 14 with value: 0.9966421629172807.\u001b[0m\n",
      "\u001b[32m[I 2023-04-14 16:21:09,530]\u001b[0m Trial 94 finished with value: 0.9648983458946558 and parameters: {'n_estimators': 2538, 'max_depth': 14, 'min_child_weight': 15, 'gamma': 2, 'lambda': 0.8661360285545612, 'alpha': 0.9598363692317072, 'subsample': 0.6}. Best is trial 14 with value: 0.9966421629172807.\u001b[0m\n",
      "\u001b[32m[I 2023-04-14 16:21:13,527]\u001b[0m Trial 95 finished with value: 0.9291566483862608 and parameters: {'n_estimators': 2991, 'max_depth': 13, 'min_child_weight': 26, 'gamma': 2, 'lambda': 1.535001862056369, 'alpha': 0.5743173895362351, 'subsample': 0.6}. Best is trial 14 with value: 0.9966421629172807.\u001b[0m\n",
      "\u001b[32m[I 2023-04-14 16:21:18,659]\u001b[0m Trial 96 finished with value: 0.9855845181674565 and parameters: {'n_estimators': 3102, 'max_depth': 14, 'min_child_weight': 7, 'gamma': 2, 'lambda': 0.7794280667228745, 'alpha': 0.775175455779682, 'subsample': 0.6}. Best is trial 14 with value: 0.9966421629172807.\u001b[0m\n",
      "\u001b[32m[I 2023-04-14 16:21:23,206]\u001b[0m Trial 97 finished with value: 0.9434771565285789 and parameters: {'n_estimators': 2895, 'max_depth': 13, 'min_child_weight': 31, 'gamma': 2, 'lambda': 2.1476996148184573, 'alpha': 0.29510537914303064, 'subsample': 0.6}. Best is trial 14 with value: 0.9966421629172807.\u001b[0m\n",
      "\u001b[32m[I 2023-04-14 16:21:28,036]\u001b[0m Trial 98 finished with value: 0.9802600347327243 and parameters: {'n_estimators': 2860, 'max_depth': 14, 'min_child_weight': 16, 'gamma': 2, 'lambda': 1.2077780495608577, 'alpha': 0.43266761802234976, 'subsample': 0.6}. Best is trial 14 with value: 0.9966421629172807.\u001b[0m\n",
      "\u001b[32m[I 2023-04-14 16:21:31,676]\u001b[0m Trial 99 finished with value: 0.9849814840213962 and parameters: {'n_estimators': 2576, 'max_depth': 12, 'min_child_weight': 6, 'gamma': 2, 'lambda': 0.5115430912522847, 'alpha': 1.2884917593442624, 'subsample': 0.6}. Best is trial 14 with value: 0.9966421629172807.\u001b[0m\n"
     ]
    },
    {
     "name": "stdout",
     "output_type": "stream",
     "text": [
      "Best trial: score 0.9966421629172807,\n",
      "params {'n_estimators': 1883, 'max_depth': 14, 'min_child_weight': 2, 'gamma': 2, 'lambda': 2.3456811220938243, 'alpha': 0.8665324516254036, 'subsample': 0.7}\n"
     ]
    }
   ],
   "source": [
    "# 1. Define an objective function to be maximized.\n",
    "def objective_xgb(trial: Trial, x, y):\n",
    "\n",
    "\n",
    "# 2. Suggest values for the hyperparameters using a trial object\n",
    "    param = {\n",
    "        \"n_estimators\": trial.suggest_int('n_estimators', 500, 4000),\n",
    "        'max_depth': trial.suggest_int('max_depth', 8, 16),\n",
    "        'min_child_weight': trial.suggest_int('min_child_weight', 1, 300),\n",
    "        'gamma': trial.suggest_int('gamma', 1, 3),\n",
    "        'learning_rate': 0.01,\n",
    "        'lambda': trial.suggest_loguniform('lambda', 1e-3, 10.0),\n",
    "        'alpha': trial.suggest_loguniform('alpha', 1e-3, 10.0),\n",
    "        'subsample': trial.suggest_categorical('subsample', [0.6, 0.7, 0.8, 1.0]),\n",
    "        'random_state': 42\n",
    "    }\n",
    "\n",
    "    x_train, x_val, y_train, y_val = train_test_split(x, y, test_size=0.2)\n",
    "\n",
    "    model = XGBClassifier(**param, tree_method='gpu_hist', gpu_id=0)\n",
    "    xgb_model = model.fit(x_train, y_train, verbose=False, eval_set=[(x_val, y_val)])\n",
    "    score = f1_score(xgb_model.predict(x_val), y_val, average='macro')\n",
    "\n",
    "    return score\n",
    "\n",
    "study = optuna.create_study(direction='maximize', sampler=TPESampler())\n",
    "study.optimize(lambda trial: objective_xgb(trial, x_train, y_train), n_trials=100)\n",
    "print('Best trial: score {},\\nparams {}'.format(study.best_trial.value, study.best_trial.params))"
   ]
  },
  {
   "cell_type": "code",
   "execution_count": 93,
   "metadata": {},
   "outputs": [],
   "source": [
    "params = study.best_trial.params\n",
    "xgb_model = XGBClassifier(**params, tree_method='gpu_hist', gpu_id=0).fit(x_train, y_train)\n",
    "y_pred = xgb_model.predict(x_test)"
   ]
  },
  {
   "cell_type": "code",
   "execution_count": 95,
   "metadata": {},
   "outputs": [
    {
     "name": "stdout",
     "output_type": "stream",
     "text": [
      "label\n",
      "0    7056\n",
      "1     333\n",
      "Name: count, dtype: int64\n"
     ]
    }
   ],
   "source": [
    "submission = prediction_to_csv(y_pred)\n"
   ]
  },
  {
   "attachments": {},
   "cell_type": "markdown",
   "metadata": {},
   "source": [
    "---"
   ]
  },
  {
   "cell_type": "code",
   "execution_count": 44,
   "metadata": {},
   "outputs": [],
   "source": [
    "test_data['label'] = prediction\n",
    "test_data['treshold'] = test_cosine\n",
    "def no_out(test_data):\n",
    "    test7342 = test_data[7342:7361]\n",
    "    no = test7342[test7342['label']==1]\n",
    "    yes = test7342[test7342['label']==0]\n",
    "    return yes, no\n",
    "\n",
    "yes, no = no_out(test_data)"
   ]
  },
  {
   "cell_type": "code",
   "execution_count": 37,
   "metadata": {},
   "outputs": [],
   "source": [
    "def plot_label_counts(predictions, chunk_sizes):\n",
    "    for i, (start, end) in enumerate(chunk_sizes):\n",
    "        chunk = predictions[start:end]\n",
    "        num_labels = len(chunk[chunk['label'] == 1])\n",
    "        print(f\"Chunk {i}: {num_labels} labels with value 1\")\n",
    "        plt.plot(chunk['label'])\n",
    "        plt.show()"
   ]
  },
  {
   "cell_type": "code",
   "execution_count": 97,
   "metadata": {},
   "outputs": [
    {
     "name": "stdout",
     "output_type": "stream",
     "text": [
      "Chunk 0: 143 labels with value 1\n"
     ]
    },
    {
     "data": {
      "image/png": "[encoded data removed]",
      "text/plain": [
       "<Figure size 640x480 with 1 Axes>"
      ]
     },
     "metadata": {},
     "output_type": "display_data"
    },
    {
     "name": "stdout",
     "output_type": "stream",
     "text": [
      "Chunk 1: 0 labels with value 1\n"
     ]
    },
    {
     "data": {
      "image/png": "[encoded data removed]",
      "text/plain": [
       "<Figure size 640x480 with 1 Axes>"
      ]
     },
     "metadata": {},
     "output_type": "display_data"
    },
    {
     "name": "stdout",
     "output_type": "stream",
     "text": [
      "Chunk 2: 21 labels with value 1\n"
     ]
    },
    {
     "data": {
      "image/png": "[encoded data removed]",
      "text/plain": [
       "<Figure size 640x480 with 1 Axes>"
      ]
     },
     "metadata": {},
     "output_type": "display_data"
    },
    {
     "name": "stdout",
     "output_type": "stream",
     "text": [
      "Chunk 3: 25 labels with value 1\n"
     ]
    },
    {
     "data": {
      "image/png": "[encoded data removed]",
      "text/plain": [
       "<Figure size 640x480 with 1 Axes>"
      ]
     },
     "metadata": {},
     "output_type": "display_data"
    },
    {
     "name": "stdout",
     "output_type": "stream",
     "text": [
      "Chunk 4: 9 labels with value 1\n"
     ]
    },
    {
     "data": {
      "image/png": "[encoded data removed]",
      "text/plain": [
       "<Figure size 640x480 with 1 Axes>"
      ]
     },
     "metadata": {},
     "output_type": "display_data"
    },
    {
     "name": "stdout",
     "output_type": "stream",
     "text": [
      "Chunk 5: 29 labels with value 1\n"
     ]
    },
    {
     "data": {
      "image/png": "[encoded data removed]",
      "text/plain": [
       "<Figure size 640x480 with 1 Axes>"
      ]
     },
     "metadata": {},
     "output_type": "display_data"
    },
    {
     "name": "stdout",
     "output_type": "stream",
     "text": [
      "Chunk 6: 102 labels with value 1\n"
     ]
    },
    {
     "data": {
      "image/png": "[encoded data removed]",
      "text/plain": [
       "<Figure size 640x480 with 1 Axes>"
      ]
     },
     "metadata": {},
     "output_type": "display_data"
    },
    {
     "name": "stdout",
     "output_type": "stream",
     "text": [
      "Chunk 7: 4 labels with value 1\n"
     ]
    },
    {
     "data": {
      "image/png": "[encoded data removed]",
      "text/plain": [
       "<Figure size 640x480 with 1 Axes>"
      ]
     },
     "metadata": {},
     "output_type": "display_data"
    }
   ],
   "source": [
    "ranges = [(0, 1296), (1296, 2403), (2403, 3501), (3501, 4419), (4419, 5337), (5337, 6083), (6083, 6831), (6831, len(prediction))]\n",
    "plot_label_counts(submission, ranges)"
   ]
  },
  {
   "cell_type": "code",
   "execution_count": 15,
   "metadata": {},
   "outputs": [],
   "source": [
    "train_data['label'] = train_cosine"
   ]
  },
  {
   "cell_type": "code",
   "execution_count": 9,
   "metadata": {},
   "outputs": [],
   "source": [
    "x_train = train_data.drop('label', axis=1)\n",
    "y_train = train_data['label']"
   ]
  },
  {
   "cell_type": "code",
   "execution_count": null,
   "metadata": {},
   "outputs": [],
   "source": [
    "from xgboost import XGBRegressor\n",
    "\n",
    "model = XGBRegressor()\n",
    "model.fit(x_train, y_train)\n",
    "\n",
    "y_pred = model.predict(test_data)"
   ]
  },
  {
   "cell_type": "code",
   "execution_count": 72,
   "metadata": {},
   "outputs": [],
   "source": [
    "test_data['label'] = y_pred"
   ]
  },
  {
   "cell_type": "code",
   "execution_count": 75,
   "metadata": {},
   "outputs": [
    {
     "data": {
      "text/html": [
       "<div>\n",
       "<style scoped>\n",
       "    .dataframe tbody tr th:only-of-type {\n",
       "        vertical-align: middle;\n",
       "    }\n",
       "\n",
       "    .dataframe tbody tr th {\n",
       "        vertical-align: top;\n",
       "    }\n",
       "\n",
       "    .dataframe thead th {\n",
       "        text-align: right;\n",
       "    }\n",
       "</style>\n",
       "<table border=\"1\" class=\"dataframe\">\n",
       "  <thead>\n",
       "    <tr style=\"text-align: right;\">\n",
       "      <th></th>\n",
       "      <th>air_inflow</th>\n",
       "      <th>air_end_temp</th>\n",
       "      <th>out_pressure</th>\n",
       "      <th>motor_current</th>\n",
       "      <th>motor_rpm</th>\n",
       "      <th>motor_temp</th>\n",
       "      <th>motor_vibe</th>\n",
       "      <th>pressure_flow_ratio</th>\n",
       "      <th>vibe_voltage_ratio</th>\n",
       "      <th>performance_index</th>\n",
       "      <th>pressure_load_ratio</th>\n",
       "      <th>vibe_rpm_ratio</th>\n",
       "      <th>vibe+rpm_temp</th>\n",
       "      <th>temp_diff</th>\n",
       "      <th>rpm*inflow</th>\n",
       "      <th>label</th>\n",
       "    </tr>\n",
       "  </thead>\n",
       "  <tbody>\n",
       "    <tr>\n",
       "      <th>0</th>\n",
       "      <td>2.5100</td>\n",
       "      <td>53.2800</td>\n",
       "      <td>0.7000</td>\n",
       "      <td>32.5400</td>\n",
       "      <td>2662.0000</td>\n",
       "      <td>69.5800</td>\n",
       "      <td>3.4800</td>\n",
       "      <td>0.2789</td>\n",
       "      <td>0.1069</td>\n",
       "      <td>0.0008</td>\n",
       "      <td>0.6454</td>\n",
       "      <td>764.9425</td>\n",
       "      <td>38.3081</td>\n",
       "      <td>16.3000</td>\n",
       "      <td>3.4809</td>\n",
       "      <td>0.9999</td>\n",
       "    </tr>\n",
       "    <tr>\n",
       "      <th>1</th>\n",
       "      <td>2.6600</td>\n",
       "      <td>55.2400</td>\n",
       "      <td>0.7000</td>\n",
       "      <td>34.4500</td>\n",
       "      <td>2819.0000</td>\n",
       "      <td>71.3200</td>\n",
       "      <td>3.5700</td>\n",
       "      <td>0.2632</td>\n",
       "      <td>0.1036</td>\n",
       "      <td>0.0008</td>\n",
       "      <td>0.6096</td>\n",
       "      <td>789.6359</td>\n",
       "      <td>39.5761</td>\n",
       "      <td>16.0800</td>\n",
       "      <td>3.5709</td>\n",
       "      <td>0.9999</td>\n",
       "    </tr>\n",
       "    <tr>\n",
       "      <th>2</th>\n",
       "      <td>1.7200</td>\n",
       "      <td>42.7400</td>\n",
       "      <td>0.7000</td>\n",
       "      <td>22.2300</td>\n",
       "      <td>1819.0000</td>\n",
       "      <td>60.2100</td>\n",
       "      <td>3.0100</td>\n",
       "      <td>0.4070</td>\n",
       "      <td>0.1354</td>\n",
       "      <td>0.0009</td>\n",
       "      <td>0.9447</td>\n",
       "      <td>604.3189</td>\n",
       "      <td>30.2609</td>\n",
       "      <td>17.4700</td>\n",
       "      <td>3.0109</td>\n",
       "      <td>0.9998</td>\n",
       "    </tr>\n",
       "    <tr>\n",
       "      <th>3</th>\n",
       "      <td>2.2000</td>\n",
       "      <td>49.1500</td>\n",
       "      <td>0.7000</td>\n",
       "      <td>28.5000</td>\n",
       "      <td>2332.0000</td>\n",
       "      <td>65.9100</td>\n",
       "      <td>3.3000</td>\n",
       "      <td>0.3182</td>\n",
       "      <td>0.1158</td>\n",
       "      <td>0.0008</td>\n",
       "      <td>0.7368</td>\n",
       "      <td>706.6667</td>\n",
       "      <td>35.4316</td>\n",
       "      <td>16.7600</td>\n",
       "      <td>3.3009</td>\n",
       "      <td>0.9999</td>\n",
       "    </tr>\n",
       "    <tr>\n",
       "      <th>4</th>\n",
       "      <td>2.0600</td>\n",
       "      <td>47.2800</td>\n",
       "      <td>0.7000</td>\n",
       "      <td>26.6700</td>\n",
       "      <td>2182.0000</td>\n",
       "      <td>64.2400</td>\n",
       "      <td>3.2100</td>\n",
       "      <td>0.3398</td>\n",
       "      <td>0.1204</td>\n",
       "      <td>0.0008</td>\n",
       "      <td>0.7874</td>\n",
       "      <td>679.7508</td>\n",
       "      <td>34.0163</td>\n",
       "      <td>16.9600</td>\n",
       "      <td>3.2109</td>\n",
       "      <td>0.9999</td>\n",
       "    </tr>\n",
       "    <tr>\n",
       "      <th>...</th>\n",
       "      <td>...</td>\n",
       "      <td>...</td>\n",
       "      <td>...</td>\n",
       "      <td>...</td>\n",
       "      <td>...</td>\n",
       "      <td>...</td>\n",
       "      <td>...</td>\n",
       "      <td>...</td>\n",
       "      <td>...</td>\n",
       "      <td>...</td>\n",
       "      <td>...</td>\n",
       "      <td>...</td>\n",
       "      <td>...</td>\n",
       "      <td>...</td>\n",
       "      <td>...</td>\n",
       "      <td>...</td>\n",
       "    </tr>\n",
       "    <tr>\n",
       "      <th>7384</th>\n",
       "      <td>2.1200</td>\n",
       "      <td>48.0800</td>\n",
       "      <td>0.7000</td>\n",
       "      <td>27.4500</td>\n",
       "      <td>2246.0000</td>\n",
       "      <td>64.9600</td>\n",
       "      <td>3.2500</td>\n",
       "      <td>0.3302</td>\n",
       "      <td>0.1184</td>\n",
       "      <td>0.0008</td>\n",
       "      <td>0.7650</td>\n",
       "      <td>691.0769</td>\n",
       "      <td>34.6252</td>\n",
       "      <td>16.8800</td>\n",
       "      <td>3.2509</td>\n",
       "      <td>0.9999</td>\n",
       "    </tr>\n",
       "    <tr>\n",
       "      <th>7385</th>\n",
       "      <td>1.4800</td>\n",
       "      <td>39.6300</td>\n",
       "      <td>0.7000</td>\n",
       "      <td>19.1900</td>\n",
       "      <td>1570.0000</td>\n",
       "      <td>57.4400</td>\n",
       "      <td>2.8700</td>\n",
       "      <td>0.4730</td>\n",
       "      <td>0.1496</td>\n",
       "      <td>0.0009</td>\n",
       "      <td>1.0943</td>\n",
       "      <td>547.0383</td>\n",
       "      <td>27.3828</td>\n",
       "      <td>17.8100</td>\n",
       "      <td>2.8709</td>\n",
       "      <td>0.9999</td>\n",
       "    </tr>\n",
       "    <tr>\n",
       "      <th>7386</th>\n",
       "      <td>1.5600</td>\n",
       "      <td>40.6100</td>\n",
       "      <td>0.7000</td>\n",
       "      <td>20.1500</td>\n",
       "      <td>1649.0000</td>\n",
       "      <td>58.3200</td>\n",
       "      <td>2.9200</td>\n",
       "      <td>0.4487</td>\n",
       "      <td>0.1449</td>\n",
       "      <td>0.0009</td>\n",
       "      <td>1.0422</td>\n",
       "      <td>564.7260</td>\n",
       "      <td>28.3251</td>\n",
       "      <td>17.7100</td>\n",
       "      <td>2.9209</td>\n",
       "      <td>0.9998</td>\n",
       "    </tr>\n",
       "    <tr>\n",
       "      <th>7387</th>\n",
       "      <td>1.5900</td>\n",
       "      <td>40.9900</td>\n",
       "      <td>0.7000</td>\n",
       "      <td>20.5200</td>\n",
       "      <td>1679.0000</td>\n",
       "      <td>58.6600</td>\n",
       "      <td>2.9300</td>\n",
       "      <td>0.4403</td>\n",
       "      <td>0.1428</td>\n",
       "      <td>0.0009</td>\n",
       "      <td>1.0234</td>\n",
       "      <td>573.0375</td>\n",
       "      <td>28.6725</td>\n",
       "      <td>17.6700</td>\n",
       "      <td>2.9309</td>\n",
       "      <td>0.9998</td>\n",
       "    </tr>\n",
       "    <tr>\n",
       "      <th>7388</th>\n",
       "      <td>1.7000</td>\n",
       "      <td>42.5100</td>\n",
       "      <td>0.7000</td>\n",
       "      <td>22.0100</td>\n",
       "      <td>1801.0000</td>\n",
       "      <td>60.0100</td>\n",
       "      <td>3.0000</td>\n",
       "      <td>0.4118</td>\n",
       "      <td>0.1363</td>\n",
       "      <td>0.0009</td>\n",
       "      <td>0.9541</td>\n",
       "      <td>600.3333</td>\n",
       "      <td>30.0617</td>\n",
       "      <td>17.5000</td>\n",
       "      <td>3.0009</td>\n",
       "      <td>0.9998</td>\n",
       "    </tr>\n",
       "  </tbody>\n",
       "</table>\n",
       "<p>7389 rows × 16 columns</p>\n",
       "</div>"
      ],
      "text/plain": [
       "      air_inflow  air_end_temp  out_pressure  motor_current  motor_rpm  \\\n",
       "0         2.5100       53.2800        0.7000        32.5400  2662.0000   \n",
       "1         2.6600       55.2400        0.7000        34.4500  2819.0000   \n",
       "2         1.7200       42.7400        0.7000        22.2300  1819.0000   \n",
       "3         2.2000       49.1500        0.7000        28.5000  2332.0000   \n",
       "4         2.0600       47.2800        0.7000        26.6700  2182.0000   \n",
       "...          ...           ...           ...            ...        ...   \n",
       "7384      2.1200       48.0800        0.7000        27.4500  2246.0000   \n",
       "7385      1.4800       39.6300        0.7000        19.1900  1570.0000   \n",
       "7386      1.5600       40.6100        0.7000        20.1500  1649.0000   \n",
       "7387      1.5900       40.9900        0.7000        20.5200  1679.0000   \n",
       "7388      1.7000       42.5100        0.7000        22.0100  1801.0000   \n",
       "\n",
       "      motor_temp  motor_vibe  pressure_flow_ratio  vibe_voltage_ratio  \\\n",
       "0        69.5800      3.4800               0.2789              0.1069   \n",
       "1        71.3200      3.5700               0.2632              0.1036   \n",
       "2        60.2100      3.0100               0.4070              0.1354   \n",
       "3        65.9100      3.3000               0.3182              0.1158   \n",
       "4        64.2400      3.2100               0.3398              0.1204   \n",
       "...          ...         ...                  ...                 ...   \n",
       "7384     64.9600      3.2500               0.3302              0.1184   \n",
       "7385     57.4400      2.8700               0.4730              0.1496   \n",
       "7386     58.3200      2.9200               0.4487              0.1449   \n",
       "7387     58.6600      2.9300               0.4403              0.1428   \n",
       "7388     60.0100      3.0000               0.4118              0.1363   \n",
       "\n",
       "      performance_index  pressure_load_ratio  vibe_rpm_ratio  vibe+rpm_temp  \\\n",
       "0                0.0008               0.6454        764.9425        38.3081   \n",
       "1                0.0008               0.6096        789.6359        39.5761   \n",
       "2                0.0009               0.9447        604.3189        30.2609   \n",
       "3                0.0008               0.7368        706.6667        35.4316   \n",
       "4                0.0008               0.7874        679.7508        34.0163   \n",
       "...                 ...                  ...             ...            ...   \n",
       "7384             0.0008               0.7650        691.0769        34.6252   \n",
       "7385             0.0009               1.0943        547.0383        27.3828   \n",
       "7386             0.0009               1.0422        564.7260        28.3251   \n",
       "7387             0.0009               1.0234        573.0375        28.6725   \n",
       "7388             0.0009               0.9541        600.3333        30.0617   \n",
       "\n",
       "      temp_diff  rpm*inflow  label  \n",
       "0       16.3000      3.4809 0.9999  \n",
       "1       16.0800      3.5709 0.9999  \n",
       "2       17.4700      3.0109 0.9998  \n",
       "3       16.7600      3.3009 0.9999  \n",
       "4       16.9600      3.2109 0.9999  \n",
       "...         ...         ...    ...  \n",
       "7384    16.8800      3.2509 0.9999  \n",
       "7385    17.8100      2.8709 0.9999  \n",
       "7386    17.7100      2.9209 0.9998  \n",
       "7387    17.6700      2.9309 0.9998  \n",
       "7388    17.5000      3.0009 0.9998  \n",
       "\n",
       "[7389 rows x 16 columns]"
      ]
     },
     "execution_count": 75,
     "metadata": {},
     "output_type": "execute_result"
    }
   ],
   "source": [
    "test_data[test_data['label']>0.7]"
   ]
  },
  {
   "cell_type": "code",
   "execution_count": 74,
   "metadata": {},
   "outputs": [
    {
     "data": {
      "text/plain": [
       "(array([1.000e+00, 0.000e+00, 2.000e+00, 5.000e+00, 0.000e+00, 6.000e+00,\n",
       "        3.000e+01, 1.400e+01, 3.000e+00, 7.328e+03]),\n",
       " array([0.9966175 , 0.9969456 , 0.9972738 , 0.997602  , 0.9979301 ,\n",
       "        0.99825823, 0.9985864 , 0.9989146 , 0.9992427 , 0.99957085,\n",
       "        0.999899  ], dtype=float32),\n",
       " <BarContainer object of 10 artists>)"
      ]
     },
     "execution_count": 74,
     "metadata": {},
     "output_type": "execute_result"
    },
    {
     "data": {
      "image/png": "[encoded data removed]",
      "text/plain": [
       "<Figure size 640x480 with 1 Axes>"
      ]
     },
     "metadata": {},
     "output_type": "display_data"
    }
   ],
   "source": [
    "plt.hist(test_data.label)"
   ]
  }
 ],
 "metadata": {
  "kernelspec": {
   "display_name": "base",
   "language": "python",
   "name": "python3"
  },
  "language_info": {
   "codemirror_mode": {
    "name": "ipython",
    "version": 3
   },
   "file_extension": ".py",
   "mimetype": "text/x-python",
   "name": "python",
   "nbconvert_exporter": "python",
   "pygments_lexer": "ipython3",
   "version": "3.8.10"
  },
  "orig_nbformat": 4
 },
 "nbformat": 4,
 "nbformat_minor": 2
}
